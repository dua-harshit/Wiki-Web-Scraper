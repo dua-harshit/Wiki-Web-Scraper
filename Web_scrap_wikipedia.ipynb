{
  "nbformat": 4,
  "nbformat_minor": 0,
  "metadata": {
    "kernelspec": {
      "display_name": "Python 3",
      "language": "python",
      "name": "python3"
    },
    "language_info": {
      "codemirror_mode": {
        "name": "ipython",
        "version": 3
      },
      "file_extension": ".py",
      "mimetype": "text/x-python",
      "name": "python",
      "nbconvert_exporter": "python",
      "pygments_lexer": "ipython3",
      "version": "3.7.4"
    },
    "colab": {
      "name": "Web scrap wikipedia.ipynb",
      "provenance": [],
      "collapsed_sections": [],
      "include_colab_link": true
    }
  },
  "cells": [
    {
      "cell_type": "markdown",
      "metadata": {
        "id": "view-in-github",
        "colab_type": "text"
      },
      "source": [
        "<a href=\"https://colab.research.google.com/github/dua-harshit/Wiki-Web-Scraper/blob/main/Web_scrap_wikipedia.ipynb\" target=\"_parent\"><img src=\"https://colab.research.google.com/assets/colab-badge.svg\" alt=\"Open In Colab\"/></a>"
      ]
    },
    {
      "cell_type": "code",
      "metadata": {
        "id": "ZvdjKWp5mH0u"
      },
      "source": [
        "import requests\n",
        "import urllib.request\n",
        "import time\n",
        "from bs4 import BeautifulSoup\n",
        "import numpy as np\n",
        "import pandas as pd\n",
        "from urllib.request import urlopen"
      ],
      "execution_count": 2,
      "outputs": []
    },
    {
      "cell_type": "code",
      "metadata": {
        "id": "BeeW_e3hmH0v"
      },
      "source": [
        "url = 'https://en.wikipedia.org/wiki/Epidemiology_of_depression'"
      ],
      "execution_count": 3,
      "outputs": []
    },
    {
      "cell_type": "code",
      "metadata": {
        "id": "Ppj2TXUvmH0v"
      },
      "source": [
        "html = urlopen(url)"
      ],
      "execution_count": 4,
      "outputs": []
    },
    {
      "cell_type": "code",
      "metadata": {
        "id": "5FJlpg1ImH0v"
      },
      "source": [
        "soup = BeautifulSoup(html, 'html.parser')"
      ],
      "execution_count": 5,
      "outputs": []
    },
    {
      "cell_type": "code",
      "metadata": {
        "id": "YeptlLgSmH0v"
      },
      "source": [
        "tables = soup.find_all('table')"
      ],
      "execution_count": 6,
      "outputs": []
    },
    {
      "cell_type": "code",
      "metadata": {
        "id": "_b7e_Hk0mH0v"
      },
      "source": [
        "#convert number as string to integer\n",
        "#re.sub() returns the substring that match the regrex\n",
        "import re\n",
        "def process_num(num):\n",
        "    return float(re.sub(r'[^\\w\\s.]','',num))\n"
      ],
      "execution_count": 7,
      "outputs": []
    },
    {
      "cell_type": "code",
      "metadata": {
        "colab": {
          "base_uri": "https://localhost:8080/",
          "height": 35
        },
        "id": "d9y-HJaamH0v",
        "outputId": "0eca5498-3fc6-4cd6-b5c6-c569b80bd3f4"
      },
      "source": [
        "num1 = re.sub(r'[^\\w\\s.]','','1,156.30')\n",
        "num1"
      ],
      "execution_count": 8,
      "outputs": [
        {
          "output_type": "execute_result",
          "data": {
            "application/vnd.google.colaboratory.intrinsic+json": {
              "type": "string"
            },
            "text/plain": [
              "'1156.30'"
            ]
          },
          "metadata": {
            "tags": []
          },
          "execution_count": 8
        }
      ]
    },
    {
      "cell_type": "code",
      "metadata": {
        "colab": {
          "base_uri": "https://localhost:8080/",
          "height": 355
        },
        "id": "amvKNnkZmH0x",
        "outputId": "ac42a4f2-f3cc-4cf9-d7ef-6c77e1890e48"
      },
      "source": [
        "ranks = []\n",
        "rates = []\n",
        "countries = []\n",
        "links = []\n",
        "\n",
        "for table in tables:\n",
        "    rows = table.find_all('tr')\n",
        "    \n",
        "    for row in rows:\n",
        "        cells = row.find_all('td')\n",
        "        \n",
        "        if len(cells) > 1:\n",
        "            rank = cells[0]\n",
        "            ranks.append(int(rank.text))\n",
        "            \n",
        "            country = cells[1]\n",
        "            countries.append(country.text.strip())\n",
        "            \n",
        "            rate = cells[2]\n",
        "            rates.append(process_num(rate.text.strip()))\n",
        "            \n",
        "            link = cells[1].find('a').get('href')\n",
        "            links.append('https://en.wikipedia.org/'+ link)\n",
        "            \n",
        "df1 = pd.DataFrame(ranks, index= countries, columns = ['Rank'])\n",
        "df1['DALY rate'] = rates\n",
        "\n",
        "df1.head(10)"
      ],
      "execution_count": 9,
      "outputs": [
        {
          "output_type": "execute_result",
          "data": {
            "text/html": [
              "<div>\n",
              "<style scoped>\n",
              "    .dataframe tbody tr th:only-of-type {\n",
              "        vertical-align: middle;\n",
              "    }\n",
              "\n",
              "    .dataframe tbody tr th {\n",
              "        vertical-align: top;\n",
              "    }\n",
              "\n",
              "    .dataframe thead th {\n",
              "        text-align: right;\n",
              "    }\n",
              "</style>\n",
              "<table border=\"1\" class=\"dataframe\">\n",
              "  <thead>\n",
              "    <tr style=\"text-align: right;\">\n",
              "      <th></th>\n",
              "      <th>Rank</th>\n",
              "      <th>DALY rate</th>\n",
              "    </tr>\n",
              "  </thead>\n",
              "  <tbody>\n",
              "    <tr>\n",
              "      <th>United States</th>\n",
              "      <td>1</td>\n",
              "      <td>1454.74</td>\n",
              "    </tr>\n",
              "    <tr>\n",
              "      <th>Nepal</th>\n",
              "      <td>2</td>\n",
              "      <td>1424.48</td>\n",
              "    </tr>\n",
              "    <tr>\n",
              "      <th>East Timor</th>\n",
              "      <td>3</td>\n",
              "      <td>1404.10</td>\n",
              "    </tr>\n",
              "    <tr>\n",
              "      <th>Bangladesh</th>\n",
              "      <td>4</td>\n",
              "      <td>1401.53</td>\n",
              "    </tr>\n",
              "    <tr>\n",
              "      <th>India</th>\n",
              "      <td>5</td>\n",
              "      <td>1400.84</td>\n",
              "    </tr>\n",
              "    <tr>\n",
              "      <th>Pakistan</th>\n",
              "      <td>6</td>\n",
              "      <td>1400.42</td>\n",
              "    </tr>\n",
              "    <tr>\n",
              "      <th>Brazil</th>\n",
              "      <td>7</td>\n",
              "      <td>1396.10</td>\n",
              "    </tr>\n",
              "    <tr>\n",
              "      <th>Maldives</th>\n",
              "      <td>8</td>\n",
              "      <td>1391.61</td>\n",
              "    </tr>\n",
              "    <tr>\n",
              "      <th>Bhutan</th>\n",
              "      <td>9</td>\n",
              "      <td>1385.53</td>\n",
              "    </tr>\n",
              "    <tr>\n",
              "      <th>Afghanistan</th>\n",
              "      <td>10</td>\n",
              "      <td>1385.14</td>\n",
              "    </tr>\n",
              "  </tbody>\n",
              "</table>\n",
              "</div>"
            ],
            "text/plain": [
              "               Rank  DALY rate\n",
              "United States     1    1454.74\n",
              "Nepal             2    1424.48\n",
              "East Timor        3    1404.10\n",
              "Bangladesh        4    1401.53\n",
              "India             5    1400.84\n",
              "Pakistan          6    1400.42\n",
              "Brazil            7    1396.10\n",
              "Maldives          8    1391.61\n",
              "Bhutan            9    1385.53\n",
              "Afghanistan      10    1385.14"
            ]
          },
          "metadata": {
            "tags": []
          },
          "execution_count": 9
        }
      ]
    },
    {
      "cell_type": "code",
      "metadata": {
        "id": "v3_V1mrpmH0x"
      },
      "source": [
        "sun_url = urlopen('https://en.wikipedia.org/wiki/List_of_cities_by_sunshine_duration')\n",
        "sun = BeautifulSoup(sun_url, 'html.parser')\n",
        "tables = sun.find_all('table')\n",
        "\n",
        "#Dictionary to hold the name of the country and its corresponding temperature\n",
        "country_suns = {}\n",
        "\n",
        "#Dictionary to hold the country and its frequency in the table\n",
        "count = {}\n",
        "for table in tables:\n",
        "    if len(table) >1:\n",
        "        rows = table.find_all('tr')\n",
        "        \n",
        "        #Skip the first row, which is the name of the columns\n",
        "        for row in rows[1:]:\n",
        "            cells = row.find_all('td')\n",
        "            country = cells[0].text.strip()\n",
        "            \n",
        "            #If country in the list of country we found previously\n",
        "            #append the country to the dictionary\n",
        "            if country in countries:\n",
        "                \n",
        "                sun = cells[-2].text.strip()\n",
        "                sun = process_num(sun)/10\n",
        "                \n",
        "                #If country is already in the dictionary\n",
        "                #add to the existing sun hours of that country and the count to keep track of how many times we add\n",
        "                if country in country_suns:\n",
        "                    count[country] += 1\n",
        "                    country_suns[country] += sun\n",
        "                    \n",
        "                else:\n",
        "                    count[country] = 1\n",
        "                    country_suns[country] = sun\n",
        "                    \n",
        "\n",
        "#Find the average temperature of each country\n",
        "for country in country_suns:\n",
        "    #print(country_suns[country],count[country])\n",
        "    country_suns[country] = round(country_suns[country]/count[country],2)\n",
        "    #print('Country: {}, Sunshine Hours: {}'.format(country,country_suns[country]))\n",
        "                "
      ],
      "execution_count": 10,
      "outputs": []
    },
    {
      "cell_type": "code",
      "metadata": {
        "colab": {
          "base_uri": "https://localhost:8080/"
        },
        "id": "V0AruZoKmH0y",
        "outputId": "f9aa34af-08d4-44bb-eede-c9dbf84275fc"
      },
      "source": [
        "df2 = pd.DataFrame.from_dict(country_suns,orient='index', columns = ['Sunshine Hours/Year'])\n",
        "print(df2.head(10))\n",
        "df = df1.join(df2)\n",
        "\n",
        "df.info()\n"
      ],
      "execution_count": 11,
      "outputs": [
        {
          "output_type": "stream",
          "text": [
            "              Sunshine Hours/Year\n",
            "Benin                      263.05\n",
            "Togo                       258.00\n",
            "Ghana                      236.75\n",
            "Cameroon                   216.51\n",
            "Gabon                      172.02\n",
            "Nigeria                    266.91\n",
            "Sudan                      355.95\n",
            "Eritrea                    336.10\n",
            "Burkina Faso               320.90\n",
            "Niger                      320.32\n",
            "<class 'pandas.core.frame.DataFrame'>\n",
            "Index: 192 entries, United States to Japan\n",
            "Data columns (total 3 columns):\n",
            " #   Column               Non-Null Count  Dtype  \n",
            "---  ------               --------------  -----  \n",
            " 0   Rank                 192 non-null    int64  \n",
            " 1   DALY rate            192 non-null    float64\n",
            " 2   Sunshine Hours/Year  125 non-null    float64\n",
            "dtypes: float64(2), int64(1)\n",
            "memory usage: 11.0+ KB\n"
          ],
          "name": "stdout"
        }
      ]
    },
    {
      "cell_type": "code",
      "metadata": {
        "id": "_dTDG5yAmH0y"
      },
      "source": [
        "df.dropna(inplace=True)"
      ],
      "execution_count": 12,
      "outputs": []
    },
    {
      "cell_type": "code",
      "metadata": {
        "colab": {
          "base_uri": "https://localhost:8080/",
          "height": 525
        },
        "id": "5uy6X_ZlmH0y",
        "outputId": "b443ca71-22ba-48ad-fdcd-238e073d7fa3"
      },
      "source": [
        "df.info()\n",
        "\n",
        "import matplotlib.pyplot as plt\n",
        "import seaborn as sns\n",
        "\n",
        "sns.scatterplot('Rank', 'Sunshine Hours/Year', data=df)"
      ],
      "execution_count": 13,
      "outputs": [
        {
          "output_type": "stream",
          "text": [
            "<class 'pandas.core.frame.DataFrame'>\n",
            "Index: 125 entries, United States to Japan\n",
            "Data columns (total 3 columns):\n",
            " #   Column               Non-Null Count  Dtype  \n",
            "---  ------               --------------  -----  \n",
            " 0   Rank                 125 non-null    int64  \n",
            " 1   DALY rate            125 non-null    float64\n",
            " 2   Sunshine Hours/Year  125 non-null    float64\n",
            "dtypes: float64(2), int64(1)\n",
            "memory usage: 3.9+ KB\n"
          ],
          "name": "stdout"
        },
        {
          "output_type": "stream",
          "text": [
            "/usr/local/lib/python3.6/dist-packages/seaborn/_decorators.py:43: FutureWarning: Pass the following variables as keyword args: x, y. From version 0.12, the only valid positional argument will be `data`, and passing other arguments without an explicit keyword will result in an error or misinterpretation.\n",
            "  FutureWarning\n"
          ],
          "name": "stderr"
        },
        {
          "output_type": "execute_result",
          "data": {
            "text/plain": [
              "<matplotlib.axes._subplots.AxesSubplot at 0x7f144ba18a90>"
            ]
          },
          "metadata": {
            "tags": []
          },
          "execution_count": 13
        },
        {
          "output_type": "display_data",
          "data": {
            "image/png": "[encoded data removed]",
            "text/plain": [
              "<Figure size 432x288 with 1 Axes>"
            ]
          },
          "metadata": {
            "tags": [],
            "needs_background": "light"
          }
        }
      ]
    },
    {
      "cell_type": "code",
      "metadata": {
        "colab": {
          "base_uri": "https://localhost:8080/",
          "height": 141
        },
        "id": "B39l6S1gmH0y",
        "outputId": "4ec0cf42-2319-444c-92ba-66611029e330"
      },
      "source": [
        "df.corr()"
      ],
      "execution_count": 14,
      "outputs": [
        {
          "output_type": "execute_result",
          "data": {
            "text/html": [
              "<div>\n",
              "<style scoped>\n",
              "    .dataframe tbody tr th:only-of-type {\n",
              "        vertical-align: middle;\n",
              "    }\n",
              "\n",
              "    .dataframe tbody tr th {\n",
              "        vertical-align: top;\n",
              "    }\n",
              "\n",
              "    .dataframe thead th {\n",
              "        text-align: right;\n",
              "    }\n",
              "</style>\n",
              "<table border=\"1\" class=\"dataframe\">\n",
              "  <thead>\n",
              "    <tr style=\"text-align: right;\">\n",
              "      <th></th>\n",
              "      <th>Rank</th>\n",
              "      <th>DALY rate</th>\n",
              "      <th>Sunshine Hours/Year</th>\n",
              "    </tr>\n",
              "  </thead>\n",
              "  <tbody>\n",
              "    <tr>\n",
              "      <th>Rank</th>\n",
              "      <td>1.000000</td>\n",
              "      <td>-0.963418</td>\n",
              "      <td>0.337272</td>\n",
              "    </tr>\n",
              "    <tr>\n",
              "      <th>DALY rate</th>\n",
              "      <td>-0.963418</td>\n",
              "      <td>1.000000</td>\n",
              "      <td>-0.277674</td>\n",
              "    </tr>\n",
              "    <tr>\n",
              "      <th>Sunshine Hours/Year</th>\n",
              "      <td>0.337272</td>\n",
              "      <td>-0.277674</td>\n",
              "      <td>1.000000</td>\n",
              "    </tr>\n",
              "  </tbody>\n",
              "</table>\n",
              "</div>"
            ],
            "text/plain": [
              "                         Rank  DALY rate  Sunshine Hours/Year\n",
              "Rank                 1.000000  -0.963418             0.337272\n",
              "DALY rate           -0.963418   1.000000            -0.277674\n",
              "Sunshine Hours/Year  0.337272  -0.277674             1.000000"
            ]
          },
          "metadata": {
            "tags": []
          },
          "execution_count": 14
        }
      ]
    },
    {
      "cell_type": "code",
      "metadata": {
        "id": "SEN0kzQ_mH0y"
      },
      "source": [
        "url2 = 'https://en.wikipedia.org/wiki/List_of_countries_by_GDP_(nominal)_per_capita'\n",
        "gdp = urlopen(url2)\n"
      ],
      "execution_count": 15,
      "outputs": []
    },
    {
      "cell_type": "code",
      "metadata": {
        "id": "-wbmXU2MqAeB"
      },
      "source": [
        "soup = BeautifulSoup(gdp, 'html.parser')\n"
      ],
      "execution_count": 16,
      "outputs": []
    },
    {
      "cell_type": "code",
      "metadata": {
        "id": "GAVIT257qGXQ"
      },
      "source": [
        "tables = soup.find_all('table')\n"
      ],
      "execution_count": 17,
      "outputs": []
    },
    {
      "cell_type": "code",
      "metadata": {
        "colab": {
          "base_uri": "https://localhost:8080/",
          "height": 355
        },
        "id": "k8J5stj8wPPu",
        "outputId": "3cf8c9d9-7021-44b3-b5dd-28d82847730e"
      },
      "source": [
        "x=0\n",
        "y=0\n",
        "incomes = []\n",
        "ranks = []\n",
        "countries = []\n",
        "links = []\n",
        "\n",
        "for table in tables:\n",
        "  rows = table.find_all('tr')\n",
        "  for row in rows:\n",
        "    cells = row.find_all('td')\n",
        "    for cell in cells:\n",
        "      innertables = cell.find_all('table')\n",
        "      for innertable in innertables:\n",
        "        x+=1\n",
        "        if(x==1):\n",
        "          innerrows = innertable.find_all('tr')\n",
        "          for innerrow in innerrows:\n",
        "            innercells = innerrow.find_all('td')\n",
        "            \n",
        "            \n",
        "            if len(innercells)>1:\n",
        "              \n",
        "              #rank = innercells[0]\n",
        "              #print(rank)\n",
        "\n",
        "              country = innercells[1]\n",
        "              countries.append(country.text.strip())\n",
        "              \n",
        "              y+=1\n",
        "              ranks.append(y)           \n",
        "                          \n",
        "              \n",
        "              income = innercells[2]\n",
        "              incomes.append(process_num(income.text.strip())/12)\n",
        "              \n",
        "              link = innercells[1].find('a').get('href')\n",
        "              links.append('https://en.wikipedia.org/'+ link)\n",
        "              \n",
        "\n",
        "df3 = pd.DataFrame(index= countries,)\n",
        "df3['Incomes'] = incomes\n",
        "\n",
        "df3.head(10)\n",
        "    "
      ],
      "execution_count": 35,
      "outputs": [
        {
          "output_type": "execute_result",
          "data": {
            "text/html": [
              "<div>\n",
              "<style scoped>\n",
              "    .dataframe tbody tr th:only-of-type {\n",
              "        vertical-align: middle;\n",
              "    }\n",
              "\n",
              "    .dataframe tbody tr th {\n",
              "        vertical-align: top;\n",
              "    }\n",
              "\n",
              "    .dataframe thead th {\n",
              "        text-align: right;\n",
              "    }\n",
              "</style>\n",
              "<table border=\"1\" class=\"dataframe\">\n",
              "  <thead>\n",
              "    <tr style=\"text-align: right;\">\n",
              "      <th></th>\n",
              "      <th>Incomes</th>\n",
              "    </tr>\n",
              "  </thead>\n",
              "  <tbody>\n",
              "    <tr>\n",
              "      <th>Luxembourg</th>\n",
              "      <td>9133.500000</td>\n",
              "    </tr>\n",
              "    <tr>\n",
              "      <th>Switzerland</th>\n",
              "      <td>6822.250000</td>\n",
              "    </tr>\n",
              "    <tr>\n",
              "      <th>Ireland</th>\n",
              "      <td>6639.083333</td>\n",
              "    </tr>\n",
              "    <tr>\n",
              "      <th>Norway</th>\n",
              "      <td>5665.750000</td>\n",
              "    </tr>\n",
              "    <tr>\n",
              "      <th>United States</th>\n",
              "      <td>5254.250000</td>\n",
              "    </tr>\n",
              "    <tr>\n",
              "      <th>Singapore</th>\n",
              "      <td>4873.666667</td>\n",
              "    </tr>\n",
              "    <tr>\n",
              "      <th>Denmark</th>\n",
              "      <td>4869.916667</td>\n",
              "    </tr>\n",
              "    <tr>\n",
              "      <th>Iceland</th>\n",
              "      <td>4765.750000</td>\n",
              "    </tr>\n",
              "    <tr>\n",
              "      <th>Qatar</th>\n",
              "      <td>4395.916667</td>\n",
              "    </tr>\n",
              "    <tr>\n",
              "      <th>Australia</th>\n",
              "      <td>4323.750000</td>\n",
              "    </tr>\n",
              "  </tbody>\n",
              "</table>\n",
              "</div>"
            ],
            "text/plain": [
              "                   Incomes\n",
              "Luxembourg     9133.500000\n",
              "Switzerland    6822.250000\n",
              "Ireland        6639.083333\n",
              "Norway         5665.750000\n",
              "United States  5254.250000\n",
              "Singapore      4873.666667\n",
              "Denmark        4869.916667\n",
              "Iceland        4765.750000\n",
              "Qatar          4395.916667\n",
              "Australia      4323.750000"
            ]
          },
          "metadata": {
            "tags": []
          },
          "execution_count": 35
        }
      ]
    },
    {
      "cell_type": "code",
      "metadata": {
        "colab": {
          "base_uri": "https://localhost:8080/"
        },
        "id": "YK0qHzbbD2BE",
        "outputId": "1f56f73e-36bd-4b00-d486-42888c821f5d"
      },
      "source": [
        "df4 = df1.join(df3)\n",
        "\n",
        "df4.dropna(inplace=True)\n",
        "df4.info()\n",
        "print(df4.head(20))"
      ],
      "execution_count": 36,
      "outputs": [
        {
          "output_type": "stream",
          "text": [
            "<class 'pandas.core.frame.DataFrame'>\n",
            "Index: 173 entries, United States to Japan\n",
            "Data columns (total 3 columns):\n",
            " #   Column     Non-Null Count  Dtype  \n",
            "---  ------     --------------  -----  \n",
            " 0   Rank       173 non-null    int64  \n",
            " 1   DALY rate  173 non-null    float64\n",
            " 2   Incomes    173 non-null    float64\n",
            "dtypes: float64(2), int64(1)\n",
            "memory usage: 5.4+ KB\n",
            "               Rank  DALY rate      Incomes\n",
            "United States     1    1454.74  5254.250000\n",
            "Nepal             2    1424.48    93.000000\n",
            "East Timor        3    1404.10   121.333333\n",
            "Bangladesh        4    1401.53   157.250000\n",
            "India             5    1400.84   156.416667\n",
            "Brazil            7    1396.10   537.500000\n",
            "Maldives          8    1391.61  1038.666667\n",
            "Bhutan            9    1385.53   285.916667\n",
            "Afghanistan      10    1385.14    41.583333\n",
            "Finland          11    1344.13  4038.416667\n",
            "Israel           12    1273.92  3463.333333\n",
            "Slovenia         13    1248.47  2086.583333\n",
            "Belgium          14    1244.46  3651.166667\n",
            "France           15    1234.32  3271.416667\n",
            "Chile            16    1221.23  1051.000000\n",
            "Guatemala        17    1177.03   353.333333\n",
            "Haiti            18    1170.73    61.000000\n",
            "Bolivia          19    1161.56   276.833333\n",
            "Nicaragua        20    1161.25   152.666667\n",
            "Canada           21    1157.07  3506.666667\n"
          ],
          "name": "stdout"
        }
      ]
    },
    {
      "cell_type": "code",
      "metadata": {
        "colab": {
          "base_uri": "https://localhost:8080/",
          "height": 351
        },
        "id": "9AjExBhjGf44",
        "outputId": "6ac2742e-45e6-4b28-d53d-411f8a3af34a"
      },
      "source": [
        "sns.scatterplot('DALY rate','Incomes', data=df4)"
      ],
      "execution_count": 37,
      "outputs": [
        {
          "output_type": "stream",
          "text": [
            "/usr/local/lib/python3.6/dist-packages/seaborn/_decorators.py:43: FutureWarning: Pass the following variables as keyword args: x, y. From version 0.12, the only valid positional argument will be `data`, and passing other arguments without an explicit keyword will result in an error or misinterpretation.\n",
            "  FutureWarning\n"
          ],
          "name": "stderr"
        },
        {
          "output_type": "execute_result",
          "data": {
            "text/plain": [
              "<matplotlib.axes._subplots.AxesSubplot at 0x7f1442539198>"
            ]
          },
          "metadata": {
            "tags": []
          },
          "execution_count": 37
        },
        {
          "output_type": "display_data",
          "data": {
            "image/png": "[encoded data removed]",
            "text/plain": [
              "<Figure size 432x288 with 1 Axes>"
            ]
          },
          "metadata": {
            "tags": [],
            "needs_background": "light"
          }
        }
      ]
    },
    {
      "cell_type": "code",
      "metadata": {
        "colab": {
          "base_uri": "https://localhost:8080/",
          "height": 141
        },
        "id": "V8eEfOap0OYq",
        "outputId": "0af18f33-71d7-4fa5-8762-e2e17c335d3a"
      },
      "source": [
        "df4.corr()"
      ],
      "execution_count": 39,
      "outputs": [
        {
          "output_type": "execute_result",
          "data": {
            "text/html": [
              "<div>\n",
              "<style scoped>\n",
              "    .dataframe tbody tr th:only-of-type {\n",
              "        vertical-align: middle;\n",
              "    }\n",
              "\n",
              "    .dataframe tbody tr th {\n",
              "        vertical-align: top;\n",
              "    }\n",
              "\n",
              "    .dataframe thead th {\n",
              "        text-align: right;\n",
              "    }\n",
              "</style>\n",
              "<table border=\"1\" class=\"dataframe\">\n",
              "  <thead>\n",
              "    <tr style=\"text-align: right;\">\n",
              "      <th></th>\n",
              "      <th>Rank</th>\n",
              "      <th>DALY rate</th>\n",
              "      <th>Incomes</th>\n",
              "    </tr>\n",
              "  </thead>\n",
              "  <tbody>\n",
              "    <tr>\n",
              "      <th>Rank</th>\n",
              "      <td>1.000000</td>\n",
              "      <td>-0.962306</td>\n",
              "      <td>-0.217687</td>\n",
              "    </tr>\n",
              "    <tr>\n",
              "      <th>DALY rate</th>\n",
              "      <td>-0.962306</td>\n",
              "      <td>1.000000</td>\n",
              "      <td>0.188412</td>\n",
              "    </tr>\n",
              "    <tr>\n",
              "      <th>Incomes</th>\n",
              "      <td>-0.217687</td>\n",
              "      <td>0.188412</td>\n",
              "      <td>1.000000</td>\n",
              "    </tr>\n",
              "  </tbody>\n",
              "</table>\n",
              "</div>"
            ],
            "text/plain": [
              "               Rank  DALY rate   Incomes\n",
              "Rank       1.000000  -0.962306 -0.217687\n",
              "DALY rate -0.962306   1.000000  0.188412\n",
              "Incomes   -0.217687   0.188412  1.000000"
            ]
          },
          "metadata": {
            "tags": []
          },
          "execution_count": 39
        }
      ]
    },
    {
      "cell_type": "code",
      "metadata": {
        "colab": {
          "base_uri": "https://localhost:8080/",
          "height": 401
        },
        "id": "tXmL7Qp_1xNN",
        "outputId": "605d8f42-a70e-461f-ad79-9af4115c0b9b"
      },
      "source": [
        "sns.relplot(\n",
        "    data=df4,\n",
        "    x=\"DALY rate\", y=\"Incomes\")"
      ],
      "execution_count": 38,
      "outputs": [
        {
          "output_type": "execute_result",
          "data": {
            "text/plain": [
              "<seaborn.axisgrid.FacetGrid at 0x7f14424fe048>"
            ]
          },
          "metadata": {
            "tags": []
          },
          "execution_count": 38
        },
        {
          "output_type": "display_data",
          "data": {
            "image/png": "[encoded data removed]",
            "text/plain": [
              "<Figure size 360x360 with 1 Axes>"
            ]
          },
          "metadata": {
            "tags": [],
            "needs_background": "light"
          }
        }
      ]
    }
  ]
}